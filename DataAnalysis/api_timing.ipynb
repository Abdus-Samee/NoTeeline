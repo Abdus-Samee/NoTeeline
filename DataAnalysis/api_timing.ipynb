{
 "cells": [
  {
   "cell_type": "code",
   "execution_count": null,
   "metadata": {
    "vscode": {
     "languageId": "plaintext"
    }
   },
   "outputs": [],
   "source": [
    "import os\n",
    "import json\n",
    "import pandas as pd\n",
    "\n",
    "userlog_path = \"UserLog\"\n",
    "yt_urls = []\n",
    "# list of micronotes ->[ [{'point': <string>, 'created_at': <number>}] ]\n",
    "micro_notes = []\n",
    "base_notes = []\n",
    "onboardings = []\n",
    "\n",
    "for folder_number in range(1, 13):\n",
    "    user_folder = f'P{folder_number}'\n",
    "    print(f'Processing {user_folder}')\n",
    "    user_folder_path = os.path.join(userlog_path, user_folder)\n",
    "    if os.path.isdir(user_folder_path):\n",
    "        folder_number = int(user_folder[1:])\n",
    "        for subdir, _, files in os.walk(user_folder_path):\n",
    "            for file in files:\n",
    "\n",
    "                str_rep = ''\n",
    "                \n",
    "                file_path = os.path.join(subdir, file)\n",
    "                if file == 'onboarding.json':\n",
    "                    with open(file_path, 'r') as f:\n",
    "                        onboarding_data = json.load(f)\n",
    "                    onboardings.append(onboarding_data)\n",
    "                elif file.lower().startswith('video1') or file.lower().startswith('video2'):\n",
    "                    with open(file_path, 'r', encoding='utf-8') as f:\n",
    "                        bullet_points_data = json.load(f)\n",
    "                    \n",
    "                    note_points = [\n",
    "                        {\n",
    "                            'point': bpd['point'],\n",
    "                            'transcript': bpd['fraction_transcript']\n",
    "                        }\n",
    "                        for bpd in bullet_points_data['editHistory']\n",
    "                    ]\n",
    "                    \n",
    "                    if folder_number % 2 == 0:\n",
    "                        if file.lower().startswith('video1'):\n",
    "                            micro_notes.append(note_points)\n",
    "                    else:\n",
    "                        if file.lower().startswith('video2'):\n",
    "                            micro_notes.append(note_points)\n"
   ]
  },
  {
   "cell_type": "code",
   "execution_count": null,
   "metadata": {
    "vscode": {
     "languageId": "plaintext"
    }
   },
   "outputs": [],
   "source": [
    "def get_formatted_prompt_string(user_idx):\n",
    "    # Simulating the check for existing onboardings\n",
    "    # take_onboarding_into_prompt = bool(onboardings)\n",
    "    take_onboarding_into_prompt = True\n",
    "\n",
    "    # Filter out onboardings with non-empty notes and non-empty keypoints\n",
    "    new_onboardings = [onboarding for onboarding in onboardings[user_idx] if onboarding['note'] and all(onboarding['keypoints'])]\n",
    "\n",
    "    # Update take_onboarding_into_prompt based on the filtered onboardings\n",
    "    if not new_onboardings:\n",
    "        take_onboarding_into_prompt = False\n",
    "\n",
    "    prompt_string = \"I want you to act as a personalized note-taking assistant. Users will give you a keypoint and the YouTube transcript. \" + \\\n",
    "                \"Your task is to expand the keypoint into a note point, by taking additional context from the transcript. The note should be a full sentence in simple English. \" + \\\n",
    "                \"Follow these rules:\\n1. Resolve any typos or grammatical mistakes that arise in the keypoint.\\n2. The note should not be longer than 1 sentence. \" + \\\n",
    "                \"3. Use uncommon words, synonyms, and alternative phrases to avoid using vocabulary that is frequently repeated in the transcript. Try to incorporate words that are absent from the transcript. \" + \\\n",
    "                \"4. Provide new insights or context that may not be directly stated in the transcript, or even suggest related information outside the scope of the transcript to make the note more unique. \" + \\\n",
    "                \"5. The note should be more abstract and explore areas or elaboration that goes beyond the original transcript content.\\n6. Just write a single note point. \" + \\\n",
    "                \"7. Avoid using phrases like 'This video talks about...' or 'The speaker explains...'. Write in a style that would be typical in a notepad.\"\n",
    "\n",
    "\n",
    "    prompt_string = \"I want you to act as a personalized note-taking assistant. Users will give you a keypoint and the youtube transcript. \" + \\\n",
    "                    \"Your task is to expand the keypoint into a note point, by taking additional context from the transcript. The note should be a full sentence in simple english. \" + \\\n",
    "                    \"Follow these rules:\\n1. Resolve any typos or grammatical mistakes that arise in the keypoint.\\n2. The note should not be longer than 1 sentence. \" + \\\n",
    "                    \"3. Remember that the keypoint can be very abstract and as short as an abbreviation. Use the transcript to get additional information to ensure a good quality note expansion.\\n\" + \\\n",
    "                    \"4. Just write a single note point, users will request repeatedly for new points they want to add.\\n\" + \\\n",
    "                    \"5. Write it in a way a user would write in a notepad. Do not use sentences such as 'This video talks about...', 'The speaker explains..' etc.\"\n",
    "    if take_onboarding_into_prompt:\n",
    "        prompt_string += \"\\nMake sure that the note aligns with the user's writing style, so that they can read it easily. Use the same writing style as shown below.\\n\" + \\\n",
    "                         \"Here are three examples:\\n\"\n",
    "\n",
    "        for onboarding in new_onboardings:\n",
    "            prompt_string += \"Transcript: ...\" + onboarding['transcript'] + \"...\\n\" + \\\n",
    "                             \"Keypoint: \" + \", \".join(onboarding['keypoints']) + \"\\n\" + \\\n",
    "                             \"Note: \" + onboarding['note'] + \"\\n\\n\"\n",
    "\n",
    "        prompt_string += \"The keypoint refers to the high-level keypoint provided by the user and your task is to write a full 'Note' point. Make sure that your expanded note point matches the writing style of 'Note' in the provided examples.\"\n",
    "\n",
    "    return prompt_string"
   ]
  },
  {
   "cell_type": "code",
   "execution_count": null,
   "metadata": {
    "vscode": {
     "languageId": "plaintext"
    }
   },
   "outputs": [],
   "source": [
    "import time\n",
    "from openai import OpenAI # Might need to install this package\n",
    "\n",
    "client = OpenAI(\n",
    "    api_key = '***'\n",
    ")\n",
    "\n",
    "def call_gpt(points, user):\n",
    "    prompt_string = get_formatted_prompt_string(user-1)\n",
    "    timings = ''\n",
    "    expansion = []\n",
    "    for point in points:\n",
    "        start_time = time.time()\n",
    "        expanded_point = point\n",
    "        transcript = \".\".join(expanded_point['transcript'])\n",
    "        prompt = \"Expand the provided keypoint into a one sentence note.\\n\" + \\\n",
    "                    \"Transcript: ...\" + transcript + \"...\\n\" + \\\n",
    "                    \"Keypoint: \" + expanded_point['point'] + \"\\n\" + \\\n",
    "                    \"Note:\"\n",
    "\n",
    "        print('calling expansion from', prompt)\n",
    "\n",
    "        res = client.chat.completions.create(\n",
    "            messages=[{'role': 'system', 'content': prompt_string}, {'role': 'user', 'content': prompt}],\n",
    "            model=\"gpt-4-1106-preview\",\n",
    "            seed=0,\n",
    "            temperature=0.3,\n",
    "            top_p=0.1,\n",
    "        )\n",
    "\n",
    "        end_time = time.time()\n",
    "        time_diff = end_time - start_time\n",
    "        timings += str(time_diff) + '\\n'\n",
    "\n",
    "        if res.choices[0].message.content is not None:\n",
    "            expansion.append({'point': point['point'], 'expansion': res.choices[0].message.content, 'old': False})\n",
    "\n",
    "    print(f'-----\\nP{user} timing: {timings}\\n-----')\n",
    "    with open(f\"api_timings/P{user}.txt\", \"w\") as file:\n",
    "            file.write(timings)\n",
    "\n",
    "    return expansion"
   ]
  },
  {
   "cell_type": "code",
   "execution_count": null,
   "metadata": {
    "vscode": {
     "languageId": "plaintext"
    }
   },
   "outputs": [],
   "source": [
    "res = [None] * 12\n",
    "for i in range(0, 12):\n",
    "    res[i] = call_gpt(micro_notes[i], i+1)"
   ]
  },
  {
   "cell_type": "code",
   "execution_count": null,
   "metadata": {
    "vscode": {
     "languageId": "plaintext"
    }
   },
   "outputs": [],
   "source": [
    "import os\n",
    "\n",
    "# List of file names\n",
    "file_names = [f\"api_timings/P{i}.txt\" for i in range(1, 13)]\n",
    "\n",
    "# Print the header of the table\n",
    "print(f\"{'User':<15} {'API Time(s)':<10}\")\n",
    "\n",
    "# Loop through each file\n",
    "for idx, file_name in enumerate(file_names):\n",
    "    try:\n",
    "        # Open the file\n",
    "        with open(file_name, 'r') as file:\n",
    "            # Initialize variables for sum and count\n",
    "            total = 0.0\n",
    "            count = 0\n",
    "\n",
    "            # Read lines and process them\n",
    "            for line in file:\n",
    "                try:\n",
    "                    # Convert line to float and add to the total\n",
    "                    total += float(line.strip())\n",
    "                    count += 1\n",
    "                except ValueError:\n",
    "                    # Handle the case where the line isn't a valid number\n",
    "                    pass\n",
    "\n",
    "            # Calculate the average if there are any numbers\n",
    "            if count > 0:\n",
    "                average = total / count\n",
    "            else:\n",
    "                average = 0  # Handle empty files or files with no valid numbers\n",
    "\n",
    "            # Print the file name and the average in tabular format\n",
    "            print(f\"P{idx+1:<15} {average:<10.4f}\")\n",
    "\n",
    "    except FileNotFoundError:\n",
    "        print(f\"{file_name:<15} {'File not found':<10}\")"
   ]
  }
 ],
 "metadata": {
  "language_info": {
   "name": "python"
  }
 },
 "nbformat": 4,
 "nbformat_minor": 2
}
