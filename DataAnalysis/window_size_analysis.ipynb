{
 "cells": [
  {
   "cell_type": "code",
   "execution_count": null,
   "metadata": {},
   "outputs": [],
   "source": [
    "!pip install youtube-transcript-api"
   ]
  },
  {
   "cell_type": "code",
   "execution_count": 3,
   "metadata": {},
   "outputs": [
    {
     "name": "stdout",
     "output_type": "stream",
     "text": [
      "Processing P1\n",
      "Processing P2\n",
      "Processing P3\n",
      "Processing P4\n",
      "Processing P5\n",
      "Processing P6\n",
      "Processing P7\n",
      "Processing P8\n",
      "Processing P9\n",
      "Processing P10\n",
      "Processing P11\n",
      "Processing P12\n"
     ]
    }
   ],
   "source": [
    "import os\n",
    "import json\n",
    "import pandas as pd\n",
    "\n",
    "userlog_path = \"UserLog\"\n",
    "yt_urls = []\n",
    "# list of micronotes ->[ [{'point': <string>, 'created_at': <number>}] ]\n",
    "micro_notes = []\n",
    "base_notes = []\n",
    "\n",
    "for folder_number in range(1, 13):\n",
    "    user_folder = f'P{folder_number}'\n",
    "    print(f'Processing {user_folder}')\n",
    "    user_folder_path = os.path.join(userlog_path, user_folder)\n",
    "    if os.path.isdir(user_folder_path):\n",
    "        folder_number = int(user_folder[1:])\n",
    "        for subdir, _, files in os.walk(user_folder_path):\n",
    "            for file in files:\n",
    "\n",
    "                str_rep = ''\n",
    "                \n",
    "                file_path = os.path.join(subdir, file)\n",
    "                if file == 'onboarding.json':\n",
    "                    pass\n",
    "                # if not file.lower().startswith('video1') and not file.lower().startswith('video2'): continue\n",
    "                elif file.lower().startswith('video1') or file.lower().startswith('video2'):\n",
    "                    video_data = {}\n",
    "                    vd_data = {}\n",
    "                    with open(file_path, 'r', encoding='utf-8') as f:\n",
    "                        bullet_points_data = json.load(f)\n",
    "                    np = [\n",
    "                        {\n",
    "                            'point': bpd['point'],\n",
    "                            'time': bpd['note_taking_time']\n",
    "                        }\n",
    "                        for bpd in bullet_points_data['editHistory']\n",
    "                    ]\n",
    "                    init_created_at = np[0]['time']\n",
    "                    np = np[1:-1] # discarding first and last noisy point\n",
    "                    note_points = []\n",
    "                    for i, n in enumerate(np):\n",
    "                        time = init_created_at + n['time']\n",
    "                        note_points.append({\n",
    "                            'point': n['point'],\n",
    "                            'created_at': time\n",
    "                        })\n",
    "                        init_created_at = time\n",
    "                    yt_url = bullet_points_data['url']\n",
    "                    \n",
    "                    if folder_number % 2 == 0:\n",
    "                        if file.lower().startswith('video1'):\n",
    "                            base_notes.append(note_points)\n",
    "                            yt_urls.append(yt_url)\n",
    "                    else:\n",
    "                        if file.lower().startswith('video2'):\n",
    "                            base_notes.append(note_points)\n",
    "                            yt_urls.append(yt_url)\n"
   ]
  },
  {
   "cell_type": "code",
   "execution_count": 2,
   "metadata": {},
   "outputs": [
    {
     "data": {
      "text/plain": [
       "['www.youtube.com/watch?v=',\n",
       " 'www.youtube.com/watch?v=',\n",
       " 'www.youtube.com/watch?v=',\n",
       " 'www.youtube.com/watch?v=',\n",
       " 'www.youtube.com/watch?v=',\n",
       " 'www.youtube.com/watch?v=',\n",
       " 'www.youtube.com/watch?v=yOgAbKJGrTA',\n",
       " 'www.youtube.com/watch?v=P7yM0TKvUm4',\n",
       " 'www.youtube.com/watch?v=P7yM0TKvUm4',\n",
       " 'www.youtube.com/watch?v=yOgAbKJGrTA',\n",
       " 'www.youtube.com/watch?v=yOgAbKJGrTA',\n",
       " 'www.youtube.com/watch?v=P7yM0TKvUm4']"
      ]
     },
     "execution_count": 2,
     "metadata": {},
     "output_type": "execute_result"
    }
   ],
   "source": [
    "yt_urls"
   ]
  },
  {
   "cell_type": "code",
   "execution_count": 4,
   "metadata": {},
   "outputs": [],
   "source": [
    "yt_urls[0] = 'www.youtube.com/watch?v=P7yM0TKvUm4'\n",
    "yt_urls[1] = 'www.youtube.com/watch?v=yOgAbKJGrTA'\n",
    "yt_urls[2] = 'www.youtube.com/watch?v=yOgAbKJGrTA'\n",
    "yt_urls[3] = 'www.youtube.com/watch?v=P7yM0TKvUm4'\n",
    "yt_urls[4] = 'www.youtube.com/watch?v=yOgAbKJGrTA'\n",
    "yt_urls[5] = 'www.youtube.com/watch?v=yOgAbKJGrTA'"
   ]
  },
  {
   "cell_type": "code",
   "execution_count": 4,
   "metadata": {},
   "outputs": [],
   "source": [
    "import pickle\n",
    "\n",
    "with open('window.pkl', 'rb') as f:\n",
    "    transcripts = pickle.load(f)"
   ]
  },
  {
   "cell_type": "code",
   "execution_count": 5,
   "metadata": {},
   "outputs": [],
   "source": [
    "def change_attr(tr):\n",
    "    return {\n",
    "        'text': tr['text'],\n",
    "        'offset': tr['start'], # changing attr name here\n",
    "        'duration': tr['duration']\n",
    "    }\n",
    "\n",
    "updated_transcripts = []\n",
    "for i, tr in enumerate(transcripts):\n",
    "    if len(tr) != 0:\n",
    "        updated_transcripts.append(list(map(change_attr, tr)))\n",
    "    else:\n",
    "        updated_transcripts.append([])"
   ]
  },
  {
   "cell_type": "code",
   "execution_count": 6,
   "metadata": {},
   "outputs": [],
   "source": [
    "# point -> {'point':<string>, 'created_at':<number>}\n",
    "def expand_point(point, transcript, WINDOW_SIZE=20000):\n",
    "    expanded_point = {'point': point['point'], 'transcript': []}\n",
    "\n",
    "    for line in transcript:\n",
    "        tr_offset = line['offset'] * 1000.0 # converting to ms\n",
    "        tr_end = (line['offset'] + line['duration']) * 1000.0 # converting to ms\n",
    "        right = point['created_at']\n",
    "        left = right - WINDOW_SIZE  # Assuming WINDOW_SIZE is defined elsewhere\n",
    "\n",
    "        # there is partial or full overlapping between point and transcript\n",
    "        if not (right < tr_offset) and not (left > tr_end):\n",
    "            expanded_point['transcript'].append(line['text'])\n",
    "\n",
    "    return expanded_point"
   ]
  },
  {
   "cell_type": "code",
   "execution_count": 7,
   "metadata": {},
   "outputs": [],
   "source": [
    "def _size(base_note, updated_transcript, win):\n",
    "    res = []\n",
    "    for bn in base_note:\n",
    "        r = expand_point(bn, updated_transcript, win)\n",
    "        res.append(r)\n",
    "    \n",
    "    return res"
   ]
  },
  {
   "cell_type": "code",
   "execution_count": 8,
   "metadata": {},
   "outputs": [
    {
     "name": "stderr",
     "output_type": "stream",
     "text": [
      "/home/codespace/.python/current/lib/python3.12/site-packages/tqdm/auto.py:21: TqdmWarning: IProgress not found. Please update jupyter and ipywidgets. See https://ipywidgets.readthedocs.io/en/stable/user_install.html\n",
      "  from .autonotebook import tqdm as notebook_tqdm\n"
     ]
    }
   ],
   "source": [
    "from bert_score import score\n",
    "\n",
    "def calculate_bert_score(resp):\n",
    "    reference = [''.join(resp['transcript'])]\n",
    "    candidate = [resp['point']]\n",
    "    P, R, F1 = score(candidate, reference, lang='en', verbose=False)\n",
    "    return {P, R, F1}"
   ]
  },
  {
   "cell_type": "code",
   "execution_count": null,
   "metadata": {},
   "outputs": [],
   "source": [
    "WINDOW = [5000, 10000, 20000, 30000, 40000, 50000]\n",
    "scores = []\n",
    "candidates = []\n",
    "references = []\n",
    "\n",
    "for author in range(12):\n",
    "    sc = []\n",
    "    for win in WINDOW:\n",
    "        if len(transcripts[author]) != 0:\n",
    "            res = _size(base_notes[author], updated_transcripts[author], win)\n",
    "            for r in res:\n",
    "                sc.append(calculate_bert_score(r))\n",
    "        else:\n",
    "            sc.append(0)\n",
    "        print(f'Expansion for user P{author+1} with WINDOW size {win} done')\n",
    "    scores.append(sc)"
   ]
  },
  {
   "cell_type": "code",
   "execution_count": 18,
   "metadata": {},
   "outputs": [
    {
     "data": {
      "text/plain": [
       "[0.8059643507003784, 0.7981622219085693, 0.8020442724227905]"
      ]
     },
     "execution_count": 18,
     "metadata": {},
     "output_type": "execute_result"
    }
   ],
   "source": [
    "[sc.item() for sc in scores[0][0]]"
   ]
  },
  {
   "cell_type": "code",
   "execution_count": null,
   "metadata": {},
   "outputs": [],
   "source": [
    "updated_scores = []\n",
    "for score in scores:\n",
    "    updated_score = []\n",
    "    for sc in score:\n",
    "        updated_score.append([s.item() for s in sc])\n",
    "    updated_scores.append(updated_score)"
   ]
  },
  {
   "cell_type": "code",
   "execution_count": null,
   "metadata": {},
   "outputs": [],
   "source": [
    "PRECISION = []\n",
    "RECALL = []\n",
    "F_1_SCORE = []\n",
    "\n",
    "for updated_score in updated_scores:\n",
    "    P = []\n",
    "    R = []\n",
    "    F_1 = []\n",
    "    for usc in updated_score:\n",
    "        P.append(usc[0])\n",
    "        R.append(usc[1])\n",
    "        F_1.append(usc[2])\n",
    "\n",
    "    PRECISION.append(P)\n",
    "    RECALL.append(R)\n",
    "    F_1_SCORE.append(F_1)"
   ]
  },
  {
   "cell_type": "code",
   "execution_count": null,
   "metadata": {},
   "outputs": [],
   "source": [
    "import matplotlib.pyplot as plt\n",
    "author = 10 # for P11\n",
    "\n",
    "time = []\n",
    "for bn in base_notes[author]:\n",
    "    time.append(bn['time'])\n",
    "\n",
    "# Create a plot\n",
    "plt.figure(figsize=(10, 5))\n",
    "plt.plot(time, PRECISION[author], marker='o', linestyle='-')\n",
    "\n",
    "# Add labels and title\n",
    "plt.xlabel('Time')\n",
    "plt.ylabel('P')\n",
    "plt.title('Plot of P vs Time')\n",
    "plt.grid()\n",
    "\n",
    "# Show the plot\n",
    "plt.show()"
   ]
  }
 ],
 "metadata": {
  "kernelspec": {
   "display_name": "Python 3",
   "language": "python",
   "name": "python3"
  },
  "language_info": {
   "codemirror_mode": {
    "name": "ipython",
    "version": 3
   },
   "file_extension": ".py",
   "mimetype": "text/x-python",
   "name": "python",
   "nbconvert_exporter": "python",
   "pygments_lexer": "ipython3",
   "version": "3.12.1"
  }
 },
 "nbformat": 4,
 "nbformat_minor": 2
}
